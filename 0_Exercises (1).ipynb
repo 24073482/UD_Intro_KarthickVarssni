{
 "cells": [
  {
   "cell_type": "markdown",
   "id": "529d91ae",
   "metadata": {
    "tags": []
   },
   "source": [
    "# Exercise 00\n",
    "Write a bit of code that prints _Introduction to Programming_ to the console and execute the cell"
   ]
  },
  {
   "cell_type": "code",
   "execution_count": 1,
   "id": "98711beb",
   "metadata": {},
   "outputs": [
    {
     "name": "stdout",
     "output_type": "stream",
     "text": [
      "Introduction to Programming\n"
     ]
    }
   ],
   "source": [
    "print('Introduction to Programming')"
   ]
  },
  {
   "cell_type": "markdown",
   "id": "63ad5023",
   "metadata": {},
   "source": [
    "-----------------------------------------------------------------------------\n",
    "# Exercise 01\n",
    "Hello World is traditionally the first program anyone writes. It is\n",
    "very simple and the only thing it should do is print Hello World! to the\n",
    "terminal window.\n",
    "Create a file called HelloWorld.py and edit the contents so it prints Hello World! to the terminal and execute it using the command line."
   ]
  },
  {
   "cell_type": "markdown",
   "id": "a4a7c4c2",
   "metadata": {},
   "source": [
    "-----------------------------------------------------------------------------\n",
    "# Exercise 02\n",
    "Write some code to print your name, email, and age on separate lines. For each element first assign it to a variable and use the variable to print. \n",
    "\n",
    "Bonus: try to create the print statement for all variable in one line of code. (hint: '\\n' is the character for a new line)"
   ]
  },
  {
   "cell_type": "code",
   "execution_count": 17,
   "id": "fc8fface",
   "metadata": {},
   "outputs": [
    {
     "name": "stdout",
     "output_type": "stream",
     "text": [
      "My name is Varssni Karthick\n",
      "Email Id: ucbvvk1@ucl.ac.uk\n",
      "Age:24\n",
      "\n"
     ]
    }
   ],
   "source": [
    "a1 = 'Varssni Karthick'\n",
    "a2 = 'ucbvvk1@ucl.ac.uk'\n",
    "a3 = '24'\n",
    "print(f\"My name is {a1}\\nEmail Id: {a2}\\nAge:{a3}\\n\")"
   ]
  },
  {
   "cell_type": "markdown",
   "id": "0dd1c1d1",
   "metadata": {},
   "source": [
    "-----------------------------------------------------------------------------\n",
    "# Exercise 03\n",
    "Print the numbers 0, 178, -21, 2938 divided by 49, 436 multiplied with 9948 and 12 to the power of 20\n",
    "\n",
    "(Hint: Look up the documentation of basic arithmetic operators)"
   ]
  },
  {
   "cell_type": "code",
   "execution_count": 27,
   "id": "f3d5d009",
   "metadata": {},
   "outputs": [
    {
     "name": "stdout",
     "output_type": "stream",
     "text": [
      "(0.0, 3.63265306122449, -0.42857142857142855, 59.95918367346939) \n",
      "4337328 \n",
      "3833759992447475122176\n"
     ]
    }
   ],
   "source": [
    "print(f\"{0/49,178/49,-21/49,2938/49} \\n{436*9948} \\n{12**20}\" )"
   ]
  },
  {
   "cell_type": "markdown",
   "id": "1f151455",
   "metadata": {},
   "source": [
    "-----------------------------------------------------------------------------\n",
    "# Exercise 04\n",
    "Print sin(200), cos(100), tan($\\pi$/4)\n",
    "\n",
    "(Hint: Look up for how to use trigonometric function, and how to get the value of $\\pi$.)"
   ]
  },
  {
   "cell_type": "code",
   "execution_count": 37,
   "id": "d0e37690",
   "metadata": {},
   "outputs": [
    {
     "name": "stdout",
     "output_type": "stream",
     "text": [
      "sin(200): {-0.8732972972139946}\n",
      "cos(100): {0.8623188722876839}\n",
      "tan(pi/4): {0.9999999999999999}\n"
     ]
    }
   ],
   "source": [
    "import math\n",
    "a = math.sin(200)\n",
    "b = math.cos(100)\n",
    "c = math.tan(math.pi/4)\n",
    "\n",
    "print (\"sin(200):\", {a})\n",
    "print(\"cos(100):\", {b})\n",
    "print(\"tan(pi/4):\", {c})"
   ]
  },
  {
   "cell_type": "code",
   "execution_count": 19,
   "id": "e1046416-7ba8-43f9-9c2f-ee598773bd04",
   "metadata": {},
   "outputs": [
    {
     "name": "stdout",
     "output_type": "stream",
     "text": [
      "sin(200): {-0.8732972972139946}\n",
      "cos(100): {-0.8732972972139946}\n",
      "tan(pi/4): {0.9999999999999999}\n"
     ]
    }
   ],
   "source": [
    "from math import *\n",
    "a = sin(200)\n",
    "b = cos(100)\n",
    "c = tan(pi/4)\n",
    "\n",
    "print(\"sin(200):\", {a})\n",
    "print(\"cos(100):\", {a})\n",
    "print(\"tan(pi/4):\", {c})\n",
    "# a , b and c can be called back within brackets or without. why??"
   ]
  },
  {
   "cell_type": "markdown",
   "id": "9d026820",
   "metadata": {},
   "source": [
    "-----------------------------------------------------------------------------\n",
    "# Exercise 05\n",
    "Write a program to read your first and last names from the console seperately, and then print them on the console together, separated by a space."
   ]
  },
  {
   "cell_type": "code",
   "execution_count": 41,
   "id": "4c7217e0",
   "metadata": {},
   "outputs": [
    {
     "name": "stdout",
     "output_type": "stream",
     "text": [
      "Varssni\n",
      "Karthick\n",
      "Varssni Karthick\n"
     ]
    }
   ],
   "source": [
    "\n",
    "print(\"Varssni\")\n",
    "print(\"Karthick\")\n",
    "print(\"Varssni\" + \" \" + \"Karthick\")"
   ]
  },
  {
   "cell_type": "code",
   "execution_count": 11,
   "id": "312dc3ce-43d5-4b68-9c40-7b5eae3cab3e",
   "metadata": {},
   "outputs": [
    {
     "name": "stdin",
     "output_type": "stream",
     "text": [
      "Enter first name: Varssni\n",
      "Enter last name: Karthick\n"
     ]
    },
    {
     "name": "stdout",
     "output_type": "stream",
     "text": [
      "Varssni Karthick\n"
     ]
    }
   ],
   "source": [
    "firstName = input(\"Enter first name:\")\n",
    "lastName = input(\"Enter last name:\")\n",
    "\n",
    "print(firstName + \" \" + lastName)\n",
    "# inputs need to be represented without brackets, but variables need to be enclosed within {} when called back"
   ]
  },
  {
   "cell_type": "markdown",
   "id": "e83fa346",
   "metadata": {},
   "source": [
    "-----------------------------------------------------------------------------\n",
    "# Exercise 06\n",
    "Write a program that determines whether a number given as user input is positive or negative\n",
    " \n",
    "You will need to convert the console input from a string to a number first!"
   ]
  },
  {
   "cell_type": "code",
   "execution_count": 51,
   "id": "ecd924c2",
   "metadata": {},
   "outputs": [
    {
     "name": "stdout",
     "output_type": "stream",
     "text": [
      "-356 is negative\n",
      "7.5 is positive\n",
      "-354.0 is negative\n",
      "0 is negative\n",
      "25 is positive\n"
     ]
    }
   ],
   "source": [
    "x = (-356,7.5,-354.0,0,25)\n",
    "\n",
    "for value in x:\n",
    "        if value>0:\n",
    "            print(f\"{value} is positive\")\n",
    "        else:\n",
    "            print(f\"{value} is negative\")"
   ]
  },
  {
   "cell_type": "markdown",
   "id": "2a192596",
   "metadata": {},
   "source": [
    "-----------------------------------------------------------------------------\n",
    "# Exercise 07\n",
    "Write a program that picks a random number between 1-20 and makes the user guess until they get the number right. Then print a congratulations message\n",
    "- (Find out yourself how to generate a random integer)\n",
    "- Bonus: make the user choose the range within which they have to guess\n",
    "- Bonus: keep track of how many guesses were made and print this at the end"
   ]
  },
  {
   "cell_type": "code",
   "execution_count": 11,
   "id": "dfb0a40c-169b-4253-bb9c-7a20f67d2b78",
   "metadata": {},
   "outputs": [
    {
     "name": "stdin",
     "output_type": "stream",
     "text": [
      "Guess number from: 12\n",
      "Guess number to: 20\n",
      " Guess a number between 12 and 20: 14\n"
     ]
    },
    {
     "name": "stdout",
     "output_type": "stream",
     "text": [
      "Too low, try again!\n"
     ]
    },
    {
     "name": "stdin",
     "output_type": "stream",
     "text": [
      " Guess a number between 12 and 20: 17\n"
     ]
    },
    {
     "name": "stdout",
     "output_type": "stream",
     "text": [
      "Congratulations! You got it at guess number 2 !\n"
     ]
    }
   ],
   "source": [
    "import random\n",
    "\n",
    "start = int(input(\"Guess number from:\"))\n",
    "end = int(input(\"Guess number to:\"))\n",
    "\n",
    "randomNumber = random.randrange(start,end)\n",
    "\n",
    "number_of_guesses = 0\n",
    "\n",
    "while True:\n",
    "    the_guess = int(input(f\" Guess a number between {start} and {end}:\"))\n",
    "    number_of_guesses += 1\n",
    "\n",
    "    if the_guess > randomNumber:\n",
    "        print(\"Too high, try again!\")\n",
    "    elif the_guess < randomNumber:\n",
    "        print(\"Too low, try again!\")\n",
    "    else: \n",
    "        print(f\"Congratulations! You got it at guess number {number_of_guesses} !\")\n",
    "        break"
   ]
  },
  {
   "cell_type": "code",
   "execution_count": 13,
   "id": "28105fe6-4e88-4f49-9e59-8d7a370a09cd",
   "metadata": {},
   "outputs": [
    {
     "name": "stdin",
     "output_type": "stream",
     "text": [
      " Guess a number between 1 and 20: 14\n"
     ]
    },
    {
     "name": "stdout",
     "output_type": "stream",
     "text": [
      "Too low, try again!\n"
     ]
    },
    {
     "name": "stdin",
     "output_type": "stream",
     "text": [
      " Guess a number between 1 and 20: 17\n"
     ]
    },
    {
     "name": "stdout",
     "output_type": "stream",
     "text": [
      "Too high, try again!\n"
     ]
    },
    {
     "name": "stdin",
     "output_type": "stream",
     "text": [
      " Guess a number between 1 and 20: 15\n"
     ]
    },
    {
     "name": "stdout",
     "output_type": "stream",
     "text": [
      "Congratulations! You got it in guess number 1!\n"
     ]
    }
   ],
   "source": [
    "import random\n",
    "\n",
    "randomNumber = random.randrange(1,20)\n",
    "\n",
    "number_of_guesses = 0\n",
    "\n",
    "while True:\n",
    "    the_guess = int(input(f\" Guess a number between {1} and {20}:\"))\n",
    "    number_of_guesses =+ 1\n",
    "\n",
    "    if the_guess > randomNumber:\n",
    "        print(\"Too high, try again!\")\n",
    "    elif the_guess < randomNumber:\n",
    "        print(\"Too low, try again!\")\n",
    "    else: \n",
    "        print(f\"Congratulations! You got it in guess number {number_of_guesses}!\")\n",
    "        break"
   ]
  },
  {
   "cell_type": "markdown",
   "id": "d53b9c07",
   "metadata": {},
   "source": [
    "-----------------------------------------------------------------------------\n",
    "# Exercise 08\n",
    "Ask a sentence as input, then print the words in alphabetical order.\n",
    "Hint: look up how to split up a string"
   ]
  },
  {
   "cell_type": "code",
   "execution_count": 15,
   "id": "b6524cf5",
   "metadata": {},
   "outputs": [
    {
     "name": "stdout",
     "output_type": "stream",
     "text": [
      "I\n",
      " \n",
      "a\n",
      "m\n",
      " \n",
      "a\n",
      " \n",
      "s\n",
      "t\n",
      "u\n",
      "d\n",
      "e\n",
      "n\n",
      "t\n",
      " \n",
      "o\n",
      "f\n",
      " \n",
      "B\n",
      "a\n",
      "r\n",
      "t\n",
      "l\n",
      "e\n",
      "t\n",
      "t\n"
     ]
    }
   ],
   "source": [
    "for alphabets in \"I am a student of Bartlett\":\n",
    "    print(alphabets)"
   ]
  },
  {
   "cell_type": "markdown",
   "id": "09a7b060",
   "metadata": {},
   "source": [
    "-----------------------------------------------------------------------------\n",
    "# Exercise 09\n",
    "Write a program using for loops to print a christmas tree of x lines high\n",
    "specified by the user.\n",
    "(use for loops)\n",
    "so for instance, a chrismas tree of 4 high should looks like this:\n",
    "\n",
    "```\n",
    "\n",
    "    *\n",
    "   ***\n",
    "  *****\n",
    " *******\n",
    "    |\n",
    "\n",
    "```\n",
    "\n",
    "hint: first combine strings into a variable before printing"
   ]
  },
  {
   "cell_type": "code",
   "execution_count": null,
   "id": "5150f7a4",
   "metadata": {},
   "outputs": [],
   "source": []
  },
  {
   "cell_type": "markdown",
   "id": "07f67531",
   "metadata": {},
   "source": [
    "-----------------------------------------------------------------------------\n",
    "# Exercise 10\n",
    "Write a piece of code that prints the first $n$ numbers of the padovan sequence"
   ]
  },
  {
   "cell_type": "code",
   "execution_count": null,
   "id": "d301c61b",
   "metadata": {},
   "outputs": [],
   "source": []
  }
 ],
 "metadata": {
  "kernelspec": {
   "display_name": "Python 3 (ipykernel)",
   "language": "python",
   "name": "python3"
  },
  "language_info": {
   "codemirror_mode": {
    "name": "ipython",
    "version": 3
   },
   "file_extension": ".py",
   "mimetype": "text/x-python",
   "name": "python",
   "nbconvert_exporter": "python",
   "pygments_lexer": "ipython3",
   "version": "3.12.4"
  }
 },
 "nbformat": 4,
 "nbformat_minor": 5
}
